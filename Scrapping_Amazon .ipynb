{
 "cells": [
  {
   "cell_type": "code",
   "execution_count": 242,
   "id": "84c1e538",
   "metadata": {},
   "outputs": [],
   "source": [
    "import pandas as pd\n",
    "from bs4 import BeautifulSoup\n",
    "import requests \n",
    "from datetime import date\n",
    "import re \n"
   ]
  },
  {
   "cell_type": "code",
   "execution_count": 58,
   "id": "3cd683b4",
   "metadata": {},
   "outputs": [],
   "source": [
    "#Connecting to Website\n",
    "# http://httpbin.org/get to get user-agent fi el headers"
   ]
  },
  {
   "cell_type": "code",
   "execution_count": null,
   "id": "0d440e8f",
   "metadata": {},
   "outputs": [],
   "source": []
  },
  {
   "cell_type": "code",
   "execution_count": 445,
   "id": "1a611513",
   "metadata": {},
   "outputs": [],
   "source": [
    "def amazon_scrape():\n",
    "    \"\"\" this function takes in the df we want to append data to & get the link from user then append the data into the given df\"\"\"\n",
    "\n",
    "    url__ = input(\"please, paste amazon link here \")\n",
    "\n",
    "    headers = {\"User-Agent\": \"Mozilla/5.0 (Windows NT 10.0; Win64; x64) AppleWebKit/537.36 (KHTML, like Gecko) Chrome/108.0.0.0 Safari/537.36\", \"DNT\":\"1\",\"Connection\":\"close\", \"Upgrade-Insecure-Requests\":\"1\"}\n",
    "    page = requests.get(url__, headers = headers)\n",
    "    soup_1 = BeautifulSoup(page.content, \"html.parser\")\n",
    "    # print(soup_1)\n",
    "\n",
    "    title = soup_1.find(id='productTitle').get_text()\n",
    "    # print(title)\n",
    "    price = soup_1.find(id=\"corePrice_desktop\").get_text()\n",
    "    reviews = soup_1.find(id=\"reviewsMedley\").get_text()\n",
    "    \n",
    "   \n",
    "    date_ = date.today()    \n",
    "    product_dict= {\"prodcut_name\":[title], \"price\":[price], \"reviews\":[reviews],\"date\":[date_], \"url\":url__}\n",
    "    product_df = pd.DataFrame(product_dict)\n",
    "  \n",
    "    print(f\"Done! check {title} data\")\n",
    "    return product_df\n",
    "    "
   ]
  },
  {
   "cell_type": "code",
   "execution_count": 431,
   "id": "72a58e45",
   "metadata": {},
   "outputs": [],
   "source": [
    "def clean_products_df(products_df_):\n",
    "    \"\"\"this funcation cleans product df and produce new cleaned dataframe \"\"\"\n",
    "    \n",
    "    # convert reviews column from object type to str using astype() method '|S' means any length \n",
    "    #products_df_[\"reviews\"] = products_df_[\"reviews\"].astype('|S')\n",
    "    products_df_[\"total_ratings\"]= 0\n",
    "    products_df_[\"rating_out_of_5\"] = 0\n",
    "    products_df_[\"5_stars_percent\"] = 0\n",
    "    products_df_[\"4_stars_percent\"] =0 \n",
    "    products_df_[\"3_stars_percent\"] = 0\n",
    "    products_df_[\"2_stars_percent\"] = 0\n",
    "    products_df_[\"1_stars_percent\"] = 0\n",
    "    \n",
    "    for i in range(len(products_df_)):\n",
    "        \n",
    "        # clean prodcut_name column\n",
    "        pr_name = products_df_[\"prodcut_name\"][i]\n",
    "        pr_name =  re.sub(r'[^a-zA-Z0-9\\s]+','',pr_name) \n",
    "        pr_name = pr_name.strip()\n",
    "        pr_name = re.sub(' +',\" \", pr_name)\n",
    "        \n",
    "        products_df_.loc[i,\"prodcut_name\"]= pr_name\n",
    "        #print(products_df_[\"prodcut_name\"][i])\n",
    "        #clean price column\n",
    "        price_ = re.findall(r'[\\d]*[.][\\d]+', products_df_[\"price\"][i] )\n",
    "        \n",
    "        products_df_.loc[i,\"price\"]= price_[0]\n",
    "        #print(products_df_[\"price\"][i])\n",
    "        \n",
    "        #extract ratings into new columns\n",
    "        products_df_.loc[i, \"reviews\"]= str(products_df_[\"reviews\"][i]).replace(\"\\\\n\",\"\")\n",
    "        review_elements = products_df_[\"reviews\"][i].split(\"How are ratings calculated?\")\n",
    "        total_ratings_stars = review_elements[0].split(\"global ratings\")\n",
    "        total_stars_out_of_5 = total_ratings_stars[0].split(\"            \")\n",
    "        total_ratings_count = total_stars_out_of_5[-1]\n",
    "        #print(products_df_[\"reviews\"][i])\n",
    "        \n",
    "        products_df_.loc[i, \"total_ratings\"]= total_ratings_count.replace(\",\",\"\")\n",
    "        #print(products_df_[\"total_ratings\"][i])\n",
    "\n",
    "        rating = total_stars_out_of_5[0].replace(\"Customer Reviews\",\"\")\n",
    "        rating = rating.split(\"stars\")\n",
    "        rating= rating[0]\n",
    "        rating = re.findall(r'[\\d]*[.][\\d]+',rating)\n",
    "        #print(rating)\n",
    "        products_df_.loc[i,\"rating_out_of_5\"]= rating[0]\n",
    "        \n",
    "        stars_percent = total_ratings_stars[1].split(\"%\")\n",
    "        stars_percent = [re.sub(' +',\" \",stars_percent[i]) for i in range(len(stars_percent))]\n",
    "        stars_percent = [re.sub( r'[^a-zA-Z0-9\\s]+',\"\",stars_percent[i]) for i in range(len(stars_percent))]\n",
    "       # print(products_df_)\n",
    "\n",
    "        stars_percent_list= []\n",
    "        for j in range(5):\n",
    "            star_j = stars_percent[j].split(\" \")\n",
    "            star_j_percent = star_j[-1]\n",
    "            stars_percent_list.append(star_j_percent)\n",
    "        \n",
    "        products_df_.loc[i, \"5_stars_percent\"]= stars_percent_list[0]\n",
    "        \n",
    "        products_df_.loc[i,\"4_stars_percent\"]= stars_percent_list[1]\n",
    "        products_df_.loc[i,\"3_stars_percent\"]= stars_percent_list[2]\n",
    "        products_df_.loc[i,\"2_stars_percent\"]= stars_percent_list[3]\n",
    "        products_df_.loc[i,\"1_stars_percent\"]= stars_percent_list[4]\n",
    "    \n",
    "    \n",
    "    products_df_[\"prodcut_name\"] = products_df_[\"prodcut_name\"].astype(pd.StringDtype())\n",
    "    products_df_[\"price\"]= products_df_[\"price\"].astype(float)\n",
    "    products_df_[\"total_ratings\"]= products_df_[\"total_ratings\"].astype(int)\n",
    "    products_df_[\"rating_out_of_5\"]= products_df_[\"rating_out_of_5\"].astype(float)\n",
    "    products_df_[\"5_stars_percent\"]= products_df_[\"5_stars_percent\"].astype(float)\n",
    "    products_df_[\"4_stars_percent\"]= products_df_[\"4_stars_percent\"].astype(float)\n",
    "    products_df_[\"3_stars_percent\"]= products_df_[\"3_stars_percent\"].astype(float)\n",
    "    products_df_[\"2_stars_percent\"]= products_df_[\"2_stars_percent\"].astype(float)\n",
    "    products_df_[\"1_stars_percent\"]= products_df_[\"1_stars_percent\"].astype(float)\n",
    "    \n",
    "    products_= products_df_.drop([\"reviews\"],axis= 1)\n",
    "    print(\"The cleaning is done you can check your dataframe \")\n",
    "    return products_"
   ]
  },
  {
   "cell_type": "markdown",
   "id": "c276056e",
   "metadata": {},
   "source": [
    "# We will scrape data link by link\n",
    "we will scrape 20 links (shoeses)"
   ]
  },
  {
   "cell_type": "code",
   "execution_count": 411,
   "id": "4fc5eff5",
   "metadata": {},
   "outputs": [
    {
     "name": "stdout",
     "output_type": "stream",
     "text": [
      "please, paste amazon link here https://www.amazon.eg/-/en/ACTIVNEW-MENS-SPORT-SHOES-WHITE/dp/B09NP25B97?ref_=Oct_d_otopr_d_21845434031&pd_rd_w=KRjIb&content-id=amzn1.sym.66034381-6399-4395-a965-d55aa520b1b2&pf_rd_p=66034381-6399-4395-a965-d55aa520b1b2&pf_rd_r=1WCZWW3PRY6N5M2P7HZQ&pd_rd_wg=9VFsd&pd_rd_r=4a26ac58-e599-44bf-9567-2aa3a3039cf9&pd_rd_i=B09NP25B97&th=1\n",
      "Done! check         ACTIVNEW MEN'S SPORT SHOES        data\n"
     ]
    }
   ],
   "source": [
    "shoes_1 = amazon_scrape()"
   ]
  },
  {
   "cell_type": "code",
   "execution_count": 413,
   "id": "0ee143ef",
   "metadata": {},
   "outputs": [
    {
     "name": "stdout",
     "output_type": "stream",
     "text": [
      "please, paste amazon link here https://www.amazon.eg/-/en/Testa-Toro-Daily-Microfiber-Casual/dp/B09V1M9DDM/ref=sr_1_2?crid=1ZTMNJJXEH184&keywords=testa+toro+men%27s+daily+life+microfiber&qid=1670009597&qu=eyJxc2MiOiIwLjgwIiwicXNhIjoiMC4wMCIsInFzcCI6IjAuMDAifQ%3D%3D&sprefix=testa+toro+men%27s+daily+life+microfib%2Caps%2C115&sr=8-2\n",
      "Done! check         Testa Toro Men's Daily Life Microfiber Casual Shoes        data\n"
     ]
    }
   ],
   "source": [
    "shoes_2 = amazon_scrape()"
   ]
  },
  {
   "cell_type": "code",
   "execution_count": 415,
   "id": "7233cc21",
   "metadata": {},
   "outputs": [
    {
     "name": "stdout",
     "output_type": "stream",
     "text": [
      "please, paste amazon link here https://www.amazon.eg/-/en/adidas-Response-Competition-Running-Sneaker/dp/B09G4JJJ9V/ref=sr_1_37?keywords=shoes+mens&qid=1669652764&qu=eyJxc2MiOiIxMS4wNiIsInFzYSI6IjEwLjI0IiwicXNwIjoiOC4wOSJ9&sprefix=shoes%2Caps%2C131&sr=8-37\n",
      "Done! check         adidas Mens Run Response Super 2.0 MN Competition Running Sneaker Shoes, Color        data\n"
     ]
    }
   ],
   "source": [
    "shoes_3 = amazon_scrape()"
   ]
  },
  {
   "cell_type": "code",
   "execution_count": 416,
   "id": "3429bdc2",
   "metadata": {},
   "outputs": [
    {
     "name": "stdout",
     "output_type": "stream",
     "text": [
      "please, paste amazon link here https://www.amazon.eg/-/en/Squadra-Leather-Detail-elastic-Panel/dp/B08Y8YLKC2/ref=sr_1_30?keywords=shoes+mens&qid=1669652764&qu=eyJxc2MiOiIxMS4wNiIsInFzYSI6IjEwLjI0IiwicXNwIjoiOC4wOSJ9&sprefix=shoes%2Caps%2C131&sr=8-30\n",
      "Done! check         Squadra Mesh Leather Detail Side        data\n"
     ]
    }
   ],
   "source": [
    "shoes_4 = amazon_scrape()"
   ]
  },
  {
   "cell_type": "code",
   "execution_count": null,
   "id": "eb64b794",
   "metadata": {},
   "outputs": [],
   "source": []
  },
  {
   "cell_type": "code",
   "execution_count": 417,
   "id": "d5118642",
   "metadata": {},
   "outputs": [
    {
     "name": "stdout",
     "output_type": "stream",
     "text": [
      "please, paste amazon link here https://www.amazon.eg/-/en/adidas-Runfalcon-Sneaker-Athletic-Running/dp/B0919R4HHW/ref=sr_1_7?keywords=shoes+mens&qid=1670004202&qu=eyJxc2MiOiIxMS4wNiIsInFzYSI6IjEwLjI0IiwicXNwIjoiOC4wOSJ9&sprefix=shoes%2Caps%2C602&sr=8-7\n",
      "Done! check         adidas Mens Runfalcon 2.0 Sneaker Athletic MNS Running Shoe, Color Semi Night Flash/Core Black/Scarlet, Size 46.5 EU        data\n"
     ]
    }
   ],
   "source": [
    "shoes_5 = amazon_scrape()"
   ]
  },
  {
   "cell_type": "code",
   "execution_count": 418,
   "id": "b801da79",
   "metadata": {},
   "outputs": [
    {
     "name": "stdout",
     "output_type": "stream",
     "text": [
      "please, paste amazon link here  https://www.amazon.eg/-/en/Squadra-Leather-Detail-elastic-Panel/dp/B08WJNMWX6/ref=sr_1_19?keywords=shoes+mens&qid=1670004202&qu=eyJxc2MiOiIxMS4wNiIsInFzYSI6IjEwLjI0IiwicXNwIjoiOC4wOSJ9&sprefix=shoes%2Caps%2C602&sr=8-19\n",
      "Done! check         Squadra Mesh Leather Detail Side        data\n"
     ]
    }
   ],
   "source": [
    "shoes_6 = amazon_scrape()"
   ]
  },
  {
   "cell_type": "code",
   "execution_count": 419,
   "id": "c0367f7d",
   "metadata": {},
   "outputs": [
    {
     "name": "stdout",
     "output_type": "stream",
     "text": [
      "please, paste amazon link here https://www.amazon.eg/-/en/Adidas-DURAMO-GW4082-RUNNING-SHOES/dp/B0B4WCP4H1/ref=sr_1_46?keywords=shoes+mens&qid=1670004202&qu=eyJxc2MiOiIxMS4wNiIsInFzYSI6IjEwLjI0IiwicXNwIjoiOC4wOSJ9&sprefix=shoes%2Caps%2C602&sr=8-46\n",
      "Done! check         Adidas DURAMO 10        data\n"
     ]
    }
   ],
   "source": [
    "shoes_7 = amazon_scrape()"
   ]
  },
  {
   "cell_type": "code",
   "execution_count": 420,
   "id": "f9404e5d",
   "metadata": {},
   "outputs": [
    {
     "name": "stdout",
     "output_type": "stream",
     "text": [
      "please, paste amazon link here https://www.amazon.eg/-/en/Salerno-Two-Tone-Textile-Lace-Up-Fluidstreet/dp/B08WJMLWZY/ref=sr_1_54?keywords=shoes+mens&qid=1670004202&qu=eyJxc2MiOiIxMS4wNiIsInFzYSI6IjEwLjI0IiwicXNwIjoiOC4wOSJ9&sprefix=shoes%2Caps%2C602&sr=8-54\n",
      "Done! check         Salerno Mens Two-Tone Textile Lace-Up Fluidstreet, Color        data\n"
     ]
    }
   ],
   "source": [
    "shoes_8 = amazon_scrape()"
   ]
  },
  {
   "cell_type": "code",
   "execution_count": 421,
   "id": "9918dea6",
   "metadata": {},
   "outputs": [
    {
     "name": "stdout",
     "output_type": "stream",
     "text": [
      "please, paste amazon link here https://www.amazon.eg/-/en/Converse-Fashion-Sneakers-Men-Black/dp/B002OXKQIM/ref=sr_1_51?keywords=shoes+mens&qid=1670004202&qu=eyJxc2MiOiIxMS4wNiIsInFzYSI6IjEwLjI0IiwicXNwIjoiOC4wOSJ9&sprefix=shoes%2Caps%2C602&sr=8-51\n",
      "Done! check         Converse Navy Blue Fashion Sneakers For Men        data\n"
     ]
    }
   ],
   "source": [
    "shoes_9 = amazon_scrape()"
   ]
  },
  {
   "cell_type": "code",
   "execution_count": 422,
   "id": "3acabe3d",
   "metadata": {},
   "outputs": [
    {
     "name": "stdout",
     "output_type": "stream",
     "text": [
      "please, paste amazon link here https://www.amazon.eg/-/en/ASICS-MENS-SPORTSTYLE-GEL-1090-WHITE/dp/B07SKHM34W/ref=sr_1_106?keywords=shoes+mens&qid=1670004895&qu=eyJxc2MiOiIxMS4wNiIsInFzYSI6IjEwLjI0IiwicXNwIjoiOC4wOSJ9&sprefix=shoes%2Caps%2C602&sr=8-106\n",
      "Done! check         ASICS MEN'S SPORTSTYLE GEL-1090        data\n"
     ]
    }
   ],
   "source": [
    "shoes_10 = amazon_scrape()"
   ]
  },
  {
   "cell_type": "code",
   "execution_count": 396,
   "id": "8ba7d458",
   "metadata": {},
   "outputs": [
    {
     "name": "stdout",
     "output_type": "stream",
     "text": [
      "please, paste amazon link here https://www.amazon.eg/-/en/SKECHERS-DLUX-WALKER-SPORTS-Collection/dp/B07YG1WXD4/ref=sr_1_103?keywords=men+shoes&qid=1670008321&qu=eyJxc2MiOiIxMS41NCIsInFzYSI6IjEwLjU1IiwicXNwIjoiOC4xNSJ9&s=fashion&sr=1-103\n",
      "Done! check         SKECHERS D'LUX WALKER - SPORTS Collection For MEN Color        data\n"
     ]
    }
   ],
   "source": [
    "shoes_11 = amazon_scrape()"
   ]
  },
  {
   "cell_type": "code",
   "execution_count": 398,
   "id": "ee3f0de0",
   "metadata": {},
   "outputs": [
    {
     "name": "stdout",
     "output_type": "stream",
     "text": [
      "please, paste amazon link here https://www.amazon.eg/-/en/Romba-Sport-Mens-Shoes-Black/dp/B09SY7XMD1/ref=sr_1_101?keywords=men+shoes&qid=1670008321&qu=eyJxc2MiOiIxMS41NCIsInFzYSI6IjEwLjU1IiwicXNwIjoiOC4xNSJ9&s=fashion&sr=1-101\n",
      "Done! check         Romba Sport Men's Shoes        data\n"
     ]
    }
   ],
   "source": [
    "shoes_12 = amazon_scrape()"
   ]
  },
  {
   "cell_type": "code",
   "execution_count": 400,
   "id": "321a54ef",
   "metadata": {},
   "outputs": [
    {
     "name": "stdout",
     "output_type": "stream",
     "text": [
      "please, paste amazon link here https://www.amazon.eg/-/en/Adidas-TRAINER-GX0728-RUNNING-black/dp/B096NCNHHX/ref=sr_1_123?keywords=men+shoes&qid=1670008321&qu=eyJxc2MiOiIxMS41NCIsInFzYSI6IjEwLjU1IiwicXNwIjoiOC4xNSJ9&s=fashion&sr=1-123\n",
      "Done! check         Adidas TRAINER V        data\n"
     ]
    }
   ],
   "source": [
    "shoes_13 = amazon_scrape()"
   ]
  },
  {
   "cell_type": "code",
   "execution_count": 401,
   "id": "2a2cc500",
   "metadata": {},
   "outputs": [
    {
     "name": "stdout",
     "output_type": "stream",
     "text": [
      "please, paste amazon link here https://www.amazon.eg/-/en/adidas-RACER-GREFIV-GRESIX-GREFOU/dp/B09N3M5DSN/ref=sr_1_139?keywords=men+shoes&qid=1670008321&qu=eyJxc2MiOiIxMS41NCIsInFzYSI6IjEwLjU1IiwicXNwIjoiOC4xNSJ9&s=fashion&sr=1-139\n",
      "Done! check         adidas LITE RACER ADAPT 4.0 Men's        data\n"
     ]
    }
   ],
   "source": [
    "shoes_14 = amazon_scrape()"
   ]
  },
  {
   "cell_type": "code",
   "execution_count": 402,
   "id": "23267cbe",
   "metadata": {},
   "outputs": [
    {
     "name": "stdout",
     "output_type": "stream",
     "text": [
      "please, paste amazon link here https://www.amazon.eg/-/en/Vans-Old-Skool-Laced-Black/dp/B01MXF6F5H/ref=sr_1_142?keywords=men+shoes&qid=1670008321&qu=eyJxc2MiOiIxMS41NCIsInFzYSI6IjEwLjU1IiwicXNwIjoiOC4xNSJ9&s=fashion&sr=1-142\n",
      "Done! check         Vans Old Skool Laced Up For Men        data\n"
     ]
    }
   ],
   "source": [
    "shoes_15 = amazon_scrape()"
   ]
  },
  {
   "cell_type": "code",
   "execution_count": 403,
   "id": "12865639",
   "metadata": {},
   "outputs": [
    {
     "name": "stdout",
     "output_type": "stream",
     "text": [
      "please, paste amazon link here https://www.amazon.eg/-/en/Skechers-Mens-Walk-Motley-Color/dp/B08S7R1KDQ/ref=sr_1_148?keywords=men+shoes&qid=1670008321&qu=eyJxc2MiOiIxMS41NCIsInFzYSI6IjEwLjU1IiwicXNwIjoiOC4xNSJ9&s=fashion&sr=1-148\n",
      "Done! check         Skechers Mens Go Walk 6 Motley, Color:        data\n"
     ]
    }
   ],
   "source": [
    "shoes_16 = amazon_scrape()"
   ]
  },
  {
   "cell_type": "code",
   "execution_count": 404,
   "id": "8e779610",
   "metadata": {},
   "outputs": [
    {
     "name": "stdout",
     "output_type": "stream",
     "text": [
      "please, paste amazon link here  https://www.amazon.eg/-/en/Skechers-Stand-Sneakers-Shoes-Color/dp/B07W72RM1Y/ref=sr_1_150?keywords=men%2Bshoes&qid=1670008809&qu=eyJxc2MiOiIxMS41NCIsInFzYSI6IjEwLjU1IiwicXNwIjoiOC4xNSJ9&s=fashion&sr=1-150&th=1\n",
      "Done! check         Skechers Mens Uno Stand on Air Sneakers Shoes, Color:        data\n"
     ]
    }
   ],
   "source": [
    "shoes_17 = amazon_scrape()"
   ]
  },
  {
   "cell_type": "code",
   "execution_count": 405,
   "id": "3f93e2f6",
   "metadata": {},
   "outputs": [
    {
     "name": "stdout",
     "output_type": "stream",
     "text": [
      "please, paste amazon link here https://www.amazon.eg/-/en/SPORT-Fashion-Sneakers-Men-Black/dp/B091K6NSGK/ref=sr_1_163?keywords=men+shoes&qid=1670009015&qu=eyJxc2MiOiIxMS41NCIsInFzYSI6IjEwLjU1IiwicXNwIjoiOC4xNSJ9&s=fashion&sr=1-163\n",
      "Done! check         SPORT Fashion Sneakers For Men        data\n"
     ]
    }
   ],
   "source": [
    "shoes_18 = amazon_scrape()"
   ]
  },
  {
   "cell_type": "code",
   "execution_count": 406,
   "id": "42790454",
   "metadata": {},
   "outputs": [
    {
     "name": "stdout",
     "output_type": "stream",
     "text": [
      "please, paste amazon link here https://www.amazon.eg/-/en/Salerno-Contrast-Lace-Up-Fashion-Sneakers/dp/B08WJPRWQM/ref=sr_1_177?keywords=men+shoes&qid=1670009015&qu=eyJxc2MiOiIxMS41NCIsInFzYSI6IjEwLjU1IiwicXNwIjoiOC4xNSJ9&s=fashion&sr=1-177\n",
      "Done! check         Salerno Mesh Contrast Lining        data\n"
     ]
    }
   ],
   "source": [
    "shoes_19 = amazon_scrape()"
   ]
  },
  {
   "cell_type": "code",
   "execution_count": 407,
   "id": "6361e9dd",
   "metadata": {},
   "outputs": [
    {
     "name": "stdout",
     "output_type": "stream",
     "text": [
      "please, paste amazon link here https://www.amazon.eg/-/en/UMBRO-TRAINERS-SHOES-Color-VERMILLION/dp/B09GS5V71M/ref=sr_1_15?keywords=men+shoes&qid=1670010689&qu=eyJxc2MiOiIxMS41NCIsInFzYSI6IjEwLjU1IiwicXNwIjoiOC4xNSJ9&sprefix=men+shoes%2Caps%2C131&sr=8-15\n",
      "Done! check         UMBRO TRAINERS SHOES For MEN Color        data\n"
     ]
    }
   ],
   "source": [
    "shoes_20 = amazon_scrape()"
   ]
  },
  {
   "cell_type": "markdown",
   "id": "5444c697",
   "metadata": {},
   "source": [
    "# append all scrapped data to one dataframe"
   ]
  },
  {
   "cell_type": "code",
   "execution_count": 423,
   "id": "b2f8ff70",
   "metadata": {},
   "outputs": [],
   "source": [
    "amazon_shoes_df = pd.concat([shoes_1, shoes_2, shoes_3,shoes_4,shoes_5,shoes_6,shoes_7,shoes_8, shoes_9, shoes_10, shoes_11, shoes_12, shoes_13,shoes_14,shoes_15,shoes_16,shoes_17,shoes_18, shoes_19])"
   ]
  },
  {
   "cell_type": "code",
   "execution_count": 424,
   "id": "05b620dc",
   "metadata": {},
   "outputs": [
    {
     "data": {
      "text/html": [
       "<div>\n",
       "<style scoped>\n",
       "    .dataframe tbody tr th:only-of-type {\n",
       "        vertical-align: middle;\n",
       "    }\n",
       "\n",
       "    .dataframe tbody tr th {\n",
       "        vertical-align: top;\n",
       "    }\n",
       "\n",
       "    .dataframe thead th {\n",
       "        text-align: right;\n",
       "    }\n",
       "</style>\n",
       "<table border=\"1\" class=\"dataframe\">\n",
       "  <thead>\n",
       "    <tr style=\"text-align: right;\">\n",
       "      <th></th>\n",
       "      <th>prodcut_name</th>\n",
       "      <th>price</th>\n",
       "      <th>reviews</th>\n",
       "      <th>date</th>\n",
       "      <th>url</th>\n",
       "    </tr>\n",
       "  </thead>\n",
       "  <tbody>\n",
       "    <tr>\n",
       "      <th>0</th>\n",
       "      <td>ACTIVNEW MEN'S SPORT SHOES</td>\n",
       "      <td>\\n  Price: EGP299.00EGP299.00 \\n\\n\\n\\n\\n\\n\\n\\n...</td>\n",
       "      <td>Customer Reviews4.0 out of 5 stars4 out of 5\\n...</td>\n",
       "      <td>2022-12-02</td>\n",
       "      <td>https://www.amazon.eg/-/en/ACTIVNEW-MENS-SPORT...</td>\n",
       "    </tr>\n",
       "    <tr>\n",
       "      <th>0</th>\n",
       "      <td>Testa Toro Men's Daily Life Microfiber...</td>\n",
       "      <td>\\n  Price: EGP185.00EGP185.00 \\n\\n\\n\\n\\n\\n\\n\\n...</td>\n",
       "      <td>Customer Reviews3.8 out of 5 stars3.8 out of 5...</td>\n",
       "      <td>2022-12-02</td>\n",
       "      <td>https://www.amazon.eg/-/en/Testa-Toro-Daily-Mi...</td>\n",
       "    </tr>\n",
       "    <tr>\n",
       "      <th>0</th>\n",
       "      <td>adidas Mens Run Response Super 2.0 MN ...</td>\n",
       "      <td>\\n  Price:  EGP1,229.00EGP1,229.00 - EGP1,679....</td>\n",
       "      <td>Customer Reviews4.1 out of 5 stars4.1 out of 5...</td>\n",
       "      <td>2022-12-02</td>\n",
       "      <td>https://www.amazon.eg/-/en/adidas-Response-Com...</td>\n",
       "    </tr>\n",
       "    <tr>\n",
       "      <th>0</th>\n",
       "      <td>Squadra Mesh Leather Detail Side</td>\n",
       "      <td>\\n  Price:  EGP69.00EGP69.00 - EGP79.00EGP79.0...</td>\n",
       "      <td>Customer Reviews2.9 out of 5 stars2.9 out of 5...</td>\n",
       "      <td>2022-12-02</td>\n",
       "      <td>https://www.amazon.eg/-/en/Squadra-Leather-Det...</td>\n",
       "    </tr>\n",
       "    <tr>\n",
       "      <th>0</th>\n",
       "      <td>adidas Mens Runfalcon 2.0 Sneaker Athl...</td>\n",
       "      <td>\\n  Price: EGP1,629.00EGP1,629.00 \\n\\n\\n\\n\\n\\n...</td>\n",
       "      <td>Customer Reviews4.4 out of 5 stars4.4 out of 5...</td>\n",
       "      <td>2022-12-02</td>\n",
       "      <td>https://www.amazon.eg/-/en/adidas-Runfalcon-Sn...</td>\n",
       "    </tr>\n",
       "    <tr>\n",
       "      <th>0</th>\n",
       "      <td>Squadra Mesh Leather Detail Side</td>\n",
       "      <td>\\n  Price: EGP79.00EGP79.00 \\n\\n\\n\\n\\n\\n\\n\\n \\...</td>\n",
       "      <td>Customer Reviews2.9 out of 5 stars2.9 out of 5...</td>\n",
       "      <td>2022-12-02</td>\n",
       "      <td>https://www.amazon.eg/-/en/Squadra-Leather-De...</td>\n",
       "    </tr>\n",
       "    <tr>\n",
       "      <th>0</th>\n",
       "      <td>Adidas DURAMO 10</td>\n",
       "      <td>\\n  Price: EGP1,879.00EGP1,879.00 \\n\\n\\n\\n\\n\\n...</td>\n",
       "      <td>Customer Reviews4.0 out of 5 stars4 out of 5\\n...</td>\n",
       "      <td>2022-12-02</td>\n",
       "      <td>https://www.amazon.eg/-/en/Adidas-DURAMO-GW408...</td>\n",
       "    </tr>\n",
       "    <tr>\n",
       "      <th>0</th>\n",
       "      <td>Salerno Mens Two-Tone Textile Lace-Up ...</td>\n",
       "      <td>\\n  Price:  EGP119.00EGP119.00 - EGP139.00EGP1...</td>\n",
       "      <td>Customer Reviews4.0 out of 5 stars4 out of 5\\n...</td>\n",
       "      <td>2022-12-02</td>\n",
       "      <td>https://www.amazon.eg/-/en/Salerno-Two-Tone-Te...</td>\n",
       "    </tr>\n",
       "    <tr>\n",
       "      <th>0</th>\n",
       "      <td>Converse Navy Blue Fashion Sneakers Fo...</td>\n",
       "      <td>\\n  Price:  EGP1,449.00EGP1,449.00 - EGP1,699....</td>\n",
       "      <td>Customer Reviews4.5 out of 5 stars4.5 out of 5...</td>\n",
       "      <td>2022-12-02</td>\n",
       "      <td>https://www.amazon.eg/-/en/Converse-Fashion-Sn...</td>\n",
       "    </tr>\n",
       "    <tr>\n",
       "      <th>0</th>\n",
       "      <td>ASICS MEN'S SPORTSTYLE GEL-1090</td>\n",
       "      <td>\\n  Price:  EGP1,659.00EGP1,659.00 - EGP2,249....</td>\n",
       "      <td>Customer Reviews4.3 out of 5 stars4.3 out of 5...</td>\n",
       "      <td>2022-12-02</td>\n",
       "      <td>https://www.amazon.eg/-/en/ASICS-MENS-SPORTSTY...</td>\n",
       "    </tr>\n",
       "    <tr>\n",
       "      <th>0</th>\n",
       "      <td>SKECHERS D'LUX WALKER - SPORTS Collect...</td>\n",
       "      <td>\\n  Price:  EGP2,609.00EGP2,609.00 - EGP3,409....</td>\n",
       "      <td>Customer Reviews4.2 out of 5 stars4.2 out of 5...</td>\n",
       "      <td>2022-12-02</td>\n",
       "      <td>https://www.amazon.eg/-/en/SKECHERS-DLUX-WALKE...</td>\n",
       "    </tr>\n",
       "    <tr>\n",
       "      <th>0</th>\n",
       "      <td>Romba Sport Men's Shoes</td>\n",
       "      <td>\\n  Price:  EGP189.00EGP189.00 - EGP199.00EGP1...</td>\n",
       "      <td>Customer Reviews2.9 out of 5 stars2.9 out of 5...</td>\n",
       "      <td>2022-12-02</td>\n",
       "      <td>https://www.amazon.eg/-/en/Romba-Sport-Mens-Sh...</td>\n",
       "    </tr>\n",
       "    <tr>\n",
       "      <th>0</th>\n",
       "      <td>Adidas TRAINER V</td>\n",
       "      <td>\\n  Price:  EGP1,839.00EGP1,839.00 - EGP1,859....</td>\n",
       "      <td>Customer Reviews3.9 out of 5 stars3.9 out of 5...</td>\n",
       "      <td>2022-12-02</td>\n",
       "      <td>https://www.amazon.eg/-/en/Adidas-TRAINER-GX07...</td>\n",
       "    </tr>\n",
       "    <tr>\n",
       "      <th>0</th>\n",
       "      <td>adidas LITE RACER ADAPT 4.0 Men's</td>\n",
       "      <td>\\n  Price: EGP1,479.00EGP1,479.00 \\n\\n\\n\\n\\n\\n...</td>\n",
       "      <td>Customer Reviews4.3 out of 5 stars4.3 out of 5...</td>\n",
       "      <td>2022-12-02</td>\n",
       "      <td>https://www.amazon.eg/-/en/adidas-RACER-GREFIV...</td>\n",
       "    </tr>\n",
       "    <tr>\n",
       "      <th>0</th>\n",
       "      <td>Vans Old Skool Laced Up For Men</td>\n",
       "      <td>\\n  Price:  EGP2,199.00EGP2,199.00 - EGP2,629....</td>\n",
       "      <td>Customer Reviews4.7 out of 5 stars4.7 out of 5...</td>\n",
       "      <td>2022-12-02</td>\n",
       "      <td>https://www.amazon.eg/-/en/Vans-Old-Skool-Lace...</td>\n",
       "    </tr>\n",
       "    <tr>\n",
       "      <th>0</th>\n",
       "      <td>Skechers Mens Go Walk 6 Motley, Color:...</td>\n",
       "      <td>\\n  Price:  EGP2,239.00EGP2,239.00 - EGP2,979....</td>\n",
       "      <td>Customer Reviews4.5 out of 5 stars4.5 out of 5...</td>\n",
       "      <td>2022-12-02</td>\n",
       "      <td>https://www.amazon.eg/-/en/Skechers-Mens-Walk-...</td>\n",
       "    </tr>\n",
       "    <tr>\n",
       "      <th>0</th>\n",
       "      <td>Skechers Mens Uno Stand on Air Sneaker...</td>\n",
       "      <td>\\n  Price: EGP2,979.00EGP2,979.00 \\n\\n\\n\\n\\n\\n...</td>\n",
       "      <td>Customer Reviews4.6 out of 5 stars4.6 out of 5...</td>\n",
       "      <td>2022-12-02</td>\n",
       "      <td>https://www.amazon.eg/-/en/Skechers-Stand-Sne...</td>\n",
       "    </tr>\n",
       "    <tr>\n",
       "      <th>0</th>\n",
       "      <td>SPORT Fashion Sneakers For Men</td>\n",
       "      <td>\\n  Price: EGP199.00EGP199.00 \\n\\n\\n\\n\\n\\n\\n\\n...</td>\n",
       "      <td>Customer Reviews2.9 out of 5 stars2.9 out of 5...</td>\n",
       "      <td>2022-12-02</td>\n",
       "      <td>https://www.amazon.eg/-/en/SPORT-Fashion-Sneak...</td>\n",
       "    </tr>\n",
       "    <tr>\n",
       "      <th>0</th>\n",
       "      <td>Salerno Mesh Contrast Lining</td>\n",
       "      <td>\\n  Price: EGP139.00EGP139.00 \\n\\n\\n\\n\\n\\n\\n\\n...</td>\n",
       "      <td>Customer Reviews3.6 out of 5 stars3.6 out of 5...</td>\n",
       "      <td>2022-12-02</td>\n",
       "      <td>https://www.amazon.eg/-/en/Salerno-Contrast-La...</td>\n",
       "    </tr>\n",
       "  </tbody>\n",
       "</table>\n",
       "</div>"
      ],
      "text/plain": [
       "                                        prodcut_name  \\\n",
       "0                  ACTIVNEW MEN'S SPORT SHOES          \n",
       "0          Testa Toro Men's Daily Life Microfiber...   \n",
       "0          adidas Mens Run Response Super 2.0 MN ...   \n",
       "0            Squadra Mesh Leather Detail Side          \n",
       "0          adidas Mens Runfalcon 2.0 Sneaker Athl...   \n",
       "0            Squadra Mesh Leather Detail Side          \n",
       "0                            Adidas DURAMO 10          \n",
       "0          Salerno Mens Two-Tone Textile Lace-Up ...   \n",
       "0          Converse Navy Blue Fashion Sneakers Fo...   \n",
       "0             ASICS MEN'S SPORTSTYLE GEL-1090          \n",
       "0          SKECHERS D'LUX WALKER - SPORTS Collect...   \n",
       "0                     Romba Sport Men's Shoes          \n",
       "0                            Adidas TRAINER V          \n",
       "0           adidas LITE RACER ADAPT 4.0 Men's          \n",
       "0             Vans Old Skool Laced Up For Men          \n",
       "0          Skechers Mens Go Walk 6 Motley, Color:...   \n",
       "0          Skechers Mens Uno Stand on Air Sneaker...   \n",
       "0              SPORT Fashion Sneakers For Men          \n",
       "0                Salerno Mesh Contrast Lining          \n",
       "\n",
       "                                               price  \\\n",
       "0  \\n  Price: EGP299.00EGP299.00 \\n\\n\\n\\n\\n\\n\\n\\n...   \n",
       "0  \\n  Price: EGP185.00EGP185.00 \\n\\n\\n\\n\\n\\n\\n\\n...   \n",
       "0  \\n  Price:  EGP1,229.00EGP1,229.00 - EGP1,679....   \n",
       "0  \\n  Price:  EGP69.00EGP69.00 - EGP79.00EGP79.0...   \n",
       "0  \\n  Price: EGP1,629.00EGP1,629.00 \\n\\n\\n\\n\\n\\n...   \n",
       "0  \\n  Price: EGP79.00EGP79.00 \\n\\n\\n\\n\\n\\n\\n\\n \\...   \n",
       "0  \\n  Price: EGP1,879.00EGP1,879.00 \\n\\n\\n\\n\\n\\n...   \n",
       "0  \\n  Price:  EGP119.00EGP119.00 - EGP139.00EGP1...   \n",
       "0  \\n  Price:  EGP1,449.00EGP1,449.00 - EGP1,699....   \n",
       "0  \\n  Price:  EGP1,659.00EGP1,659.00 - EGP2,249....   \n",
       "0  \\n  Price:  EGP2,609.00EGP2,609.00 - EGP3,409....   \n",
       "0  \\n  Price:  EGP189.00EGP189.00 - EGP199.00EGP1...   \n",
       "0  \\n  Price:  EGP1,839.00EGP1,839.00 - EGP1,859....   \n",
       "0  \\n  Price: EGP1,479.00EGP1,479.00 \\n\\n\\n\\n\\n\\n...   \n",
       "0  \\n  Price:  EGP2,199.00EGP2,199.00 - EGP2,629....   \n",
       "0  \\n  Price:  EGP2,239.00EGP2,239.00 - EGP2,979....   \n",
       "0  \\n  Price: EGP2,979.00EGP2,979.00 \\n\\n\\n\\n\\n\\n...   \n",
       "0  \\n  Price: EGP199.00EGP199.00 \\n\\n\\n\\n\\n\\n\\n\\n...   \n",
       "0  \\n  Price: EGP139.00EGP139.00 \\n\\n\\n\\n\\n\\n\\n\\n...   \n",
       "\n",
       "                                             reviews        date  \\\n",
       "0  Customer Reviews4.0 out of 5 stars4 out of 5\\n...  2022-12-02   \n",
       "0  Customer Reviews3.8 out of 5 stars3.8 out of 5...  2022-12-02   \n",
       "0  Customer Reviews4.1 out of 5 stars4.1 out of 5...  2022-12-02   \n",
       "0  Customer Reviews2.9 out of 5 stars2.9 out of 5...  2022-12-02   \n",
       "0  Customer Reviews4.4 out of 5 stars4.4 out of 5...  2022-12-02   \n",
       "0  Customer Reviews2.9 out of 5 stars2.9 out of 5...  2022-12-02   \n",
       "0  Customer Reviews4.0 out of 5 stars4 out of 5\\n...  2022-12-02   \n",
       "0  Customer Reviews4.0 out of 5 stars4 out of 5\\n...  2022-12-02   \n",
       "0  Customer Reviews4.5 out of 5 stars4.5 out of 5...  2022-12-02   \n",
       "0  Customer Reviews4.3 out of 5 stars4.3 out of 5...  2022-12-02   \n",
       "0  Customer Reviews4.2 out of 5 stars4.2 out of 5...  2022-12-02   \n",
       "0  Customer Reviews2.9 out of 5 stars2.9 out of 5...  2022-12-02   \n",
       "0  Customer Reviews3.9 out of 5 stars3.9 out of 5...  2022-12-02   \n",
       "0  Customer Reviews4.3 out of 5 stars4.3 out of 5...  2022-12-02   \n",
       "0  Customer Reviews4.7 out of 5 stars4.7 out of 5...  2022-12-02   \n",
       "0  Customer Reviews4.5 out of 5 stars4.5 out of 5...  2022-12-02   \n",
       "0  Customer Reviews4.6 out of 5 stars4.6 out of 5...  2022-12-02   \n",
       "0  Customer Reviews2.9 out of 5 stars2.9 out of 5...  2022-12-02   \n",
       "0  Customer Reviews3.6 out of 5 stars3.6 out of 5...  2022-12-02   \n",
       "\n",
       "                                                 url  \n",
       "0  https://www.amazon.eg/-/en/ACTIVNEW-MENS-SPORT...  \n",
       "0  https://www.amazon.eg/-/en/Testa-Toro-Daily-Mi...  \n",
       "0  https://www.amazon.eg/-/en/adidas-Response-Com...  \n",
       "0  https://www.amazon.eg/-/en/Squadra-Leather-Det...  \n",
       "0  https://www.amazon.eg/-/en/adidas-Runfalcon-Sn...  \n",
       "0   https://www.amazon.eg/-/en/Squadra-Leather-De...  \n",
       "0  https://www.amazon.eg/-/en/Adidas-DURAMO-GW408...  \n",
       "0  https://www.amazon.eg/-/en/Salerno-Two-Tone-Te...  \n",
       "0  https://www.amazon.eg/-/en/Converse-Fashion-Sn...  \n",
       "0  https://www.amazon.eg/-/en/ASICS-MENS-SPORTSTY...  \n",
       "0  https://www.amazon.eg/-/en/SKECHERS-DLUX-WALKE...  \n",
       "0  https://www.amazon.eg/-/en/Romba-Sport-Mens-Sh...  \n",
       "0  https://www.amazon.eg/-/en/Adidas-TRAINER-GX07...  \n",
       "0  https://www.amazon.eg/-/en/adidas-RACER-GREFIV...  \n",
       "0  https://www.amazon.eg/-/en/Vans-Old-Skool-Lace...  \n",
       "0  https://www.amazon.eg/-/en/Skechers-Mens-Walk-...  \n",
       "0   https://www.amazon.eg/-/en/Skechers-Stand-Sne...  \n",
       "0  https://www.amazon.eg/-/en/SPORT-Fashion-Sneak...  \n",
       "0  https://www.amazon.eg/-/en/Salerno-Contrast-La...  "
      ]
     },
     "execution_count": 424,
     "metadata": {},
     "output_type": "execute_result"
    }
   ],
   "source": [
    "amazon_shoes_df"
   ]
  },
  {
   "cell_type": "markdown",
   "id": "ada1310d",
   "metadata": {},
   "source": [
    "# Create new csv with the collected data "
   ]
  },
  {
   "cell_type": "code",
   "execution_count": 440,
   "id": "603e7fc0",
   "metadata": {},
   "outputs": [],
   "source": [
    "#amazon_shoes_df.to_csv(f\"E:\\\\study\\\\DA_Projects\\\\Python_projects\\\\Amazon_project\\\\data\\\\amazon_shoes_df_{date.today()}.csv\", index= False)"
   ]
  },
  {
   "cell_type": "code",
   "execution_count": null,
   "id": "1df445d0",
   "metadata": {},
   "outputs": [],
   "source": []
  },
  {
   "cell_type": "code",
   "execution_count": null,
   "id": "aad6a586",
   "metadata": {},
   "outputs": [],
   "source": []
  },
  {
   "cell_type": "markdown",
   "id": "a9de81e9",
   "metadata": {},
   "source": [
    "# Cleaning "
   ]
  },
  {
   "cell_type": "code",
   "execution_count": 433,
   "id": "97874238",
   "metadata": {},
   "outputs": [],
   "source": [
    "products_1 = pd.read_csv(r\"E:\\study\\DA_Projects\\Python_projects\\Amazon_project\\data\\amazon_shoes_df_2022-12-02.csv\")"
   ]
  },
  {
   "cell_type": "code",
   "execution_count": 434,
   "id": "ee42ba8f",
   "metadata": {},
   "outputs": [
    {
     "data": {
      "text/html": [
       "<div>\n",
       "<style scoped>\n",
       "    .dataframe tbody tr th:only-of-type {\n",
       "        vertical-align: middle;\n",
       "    }\n",
       "\n",
       "    .dataframe tbody tr th {\n",
       "        vertical-align: top;\n",
       "    }\n",
       "\n",
       "    .dataframe thead th {\n",
       "        text-align: right;\n",
       "    }\n",
       "</style>\n",
       "<table border=\"1\" class=\"dataframe\">\n",
       "  <thead>\n",
       "    <tr style=\"text-align: right;\">\n",
       "      <th></th>\n",
       "      <th>prodcut_name</th>\n",
       "      <th>price</th>\n",
       "      <th>reviews</th>\n",
       "      <th>date</th>\n",
       "      <th>url</th>\n",
       "    </tr>\n",
       "  </thead>\n",
       "  <tbody>\n",
       "    <tr>\n",
       "      <th>0</th>\n",
       "      <td>ACTIVNEW MEN'S SPORT SHOES</td>\n",
       "      <td>\\n  Price: EGP299.00EGP299.00 \\n\\n\\n\\n\\n\\n\\n\\n...</td>\n",
       "      <td>Customer Reviews4.0 out of 5 stars4 out of 5\\n...</td>\n",
       "      <td>2022-12-02</td>\n",
       "      <td>https://www.amazon.eg/-/en/ACTIVNEW-MENS-SPORT...</td>\n",
       "    </tr>\n",
       "    <tr>\n",
       "      <th>1</th>\n",
       "      <td>Testa Toro Men's Daily Life Microfiber...</td>\n",
       "      <td>\\n  Price: EGP185.00EGP185.00 \\n\\n\\n\\n\\n\\n\\n\\n...</td>\n",
       "      <td>Customer Reviews3.8 out of 5 stars3.8 out of 5...</td>\n",
       "      <td>2022-12-02</td>\n",
       "      <td>https://www.amazon.eg/-/en/Testa-Toro-Daily-Mi...</td>\n",
       "    </tr>\n",
       "    <tr>\n",
       "      <th>2</th>\n",
       "      <td>adidas Mens Run Response Super 2.0 MN ...</td>\n",
       "      <td>\\n  Price:  EGP1,229.00EGP1,229.00 - EGP1,679....</td>\n",
       "      <td>Customer Reviews4.1 out of 5 stars4.1 out of 5...</td>\n",
       "      <td>2022-12-02</td>\n",
       "      <td>https://www.amazon.eg/-/en/adidas-Response-Com...</td>\n",
       "    </tr>\n",
       "    <tr>\n",
       "      <th>3</th>\n",
       "      <td>Squadra Mesh Leather Detail Side</td>\n",
       "      <td>\\n  Price:  EGP69.00EGP69.00 - EGP79.00EGP79.0...</td>\n",
       "      <td>Customer Reviews2.9 out of 5 stars2.9 out of 5...</td>\n",
       "      <td>2022-12-02</td>\n",
       "      <td>https://www.amazon.eg/-/en/Squadra-Leather-Det...</td>\n",
       "    </tr>\n",
       "    <tr>\n",
       "      <th>4</th>\n",
       "      <td>adidas Mens Runfalcon 2.0 Sneaker Athl...</td>\n",
       "      <td>\\n  Price: EGP1,629.00EGP1,629.00 \\n\\n\\n\\n\\n\\n...</td>\n",
       "      <td>Customer Reviews4.4 out of 5 stars4.4 out of 5...</td>\n",
       "      <td>2022-12-02</td>\n",
       "      <td>https://www.amazon.eg/-/en/adidas-Runfalcon-Sn...</td>\n",
       "    </tr>\n",
       "    <tr>\n",
       "      <th>5</th>\n",
       "      <td>Squadra Mesh Leather Detail Side</td>\n",
       "      <td>\\n  Price: EGP79.00EGP79.00 \\n\\n\\n\\n\\n\\n\\n\\n \\...</td>\n",
       "      <td>Customer Reviews2.9 out of 5 stars2.9 out of 5...</td>\n",
       "      <td>2022-12-02</td>\n",
       "      <td>https://www.amazon.eg/-/en/Squadra-Leather-De...</td>\n",
       "    </tr>\n",
       "    <tr>\n",
       "      <th>6</th>\n",
       "      <td>Adidas DURAMO 10</td>\n",
       "      <td>\\n  Price: EGP1,879.00EGP1,879.00 \\n\\n\\n\\n\\n\\n...</td>\n",
       "      <td>Customer Reviews4.0 out of 5 stars4 out of 5\\n...</td>\n",
       "      <td>2022-12-02</td>\n",
       "      <td>https://www.amazon.eg/-/en/Adidas-DURAMO-GW408...</td>\n",
       "    </tr>\n",
       "    <tr>\n",
       "      <th>7</th>\n",
       "      <td>Salerno Mens Two-Tone Textile Lace-Up ...</td>\n",
       "      <td>\\n  Price:  EGP119.00EGP119.00 - EGP139.00EGP1...</td>\n",
       "      <td>Customer Reviews4.0 out of 5 stars4 out of 5\\n...</td>\n",
       "      <td>2022-12-02</td>\n",
       "      <td>https://www.amazon.eg/-/en/Salerno-Two-Tone-Te...</td>\n",
       "    </tr>\n",
       "    <tr>\n",
       "      <th>8</th>\n",
       "      <td>Converse Navy Blue Fashion Sneakers Fo...</td>\n",
       "      <td>\\n  Price:  EGP1,449.00EGP1,449.00 - EGP1,699....</td>\n",
       "      <td>Customer Reviews4.5 out of 5 stars4.5 out of 5...</td>\n",
       "      <td>2022-12-02</td>\n",
       "      <td>https://www.amazon.eg/-/en/Converse-Fashion-Sn...</td>\n",
       "    </tr>\n",
       "    <tr>\n",
       "      <th>9</th>\n",
       "      <td>ASICS MEN'S SPORTSTYLE GEL-1090</td>\n",
       "      <td>\\n  Price:  EGP1,659.00EGP1,659.00 - EGP2,249....</td>\n",
       "      <td>Customer Reviews4.3 out of 5 stars4.3 out of 5...</td>\n",
       "      <td>2022-12-02</td>\n",
       "      <td>https://www.amazon.eg/-/en/ASICS-MENS-SPORTSTY...</td>\n",
       "    </tr>\n",
       "    <tr>\n",
       "      <th>10</th>\n",
       "      <td>SKECHERS D'LUX WALKER - SPORTS Collect...</td>\n",
       "      <td>\\n  Price:  EGP2,609.00EGP2,609.00 - EGP3,409....</td>\n",
       "      <td>Customer Reviews4.2 out of 5 stars4.2 out of 5...</td>\n",
       "      <td>2022-12-02</td>\n",
       "      <td>https://www.amazon.eg/-/en/SKECHERS-DLUX-WALKE...</td>\n",
       "    </tr>\n",
       "    <tr>\n",
       "      <th>11</th>\n",
       "      <td>Romba Sport Men's Shoes</td>\n",
       "      <td>\\n  Price:  EGP189.00EGP189.00 - EGP199.00EGP1...</td>\n",
       "      <td>Customer Reviews2.9 out of 5 stars2.9 out of 5...</td>\n",
       "      <td>2022-12-02</td>\n",
       "      <td>https://www.amazon.eg/-/en/Romba-Sport-Mens-Sh...</td>\n",
       "    </tr>\n",
       "    <tr>\n",
       "      <th>12</th>\n",
       "      <td>Adidas TRAINER V</td>\n",
       "      <td>\\n  Price:  EGP1,839.00EGP1,839.00 - EGP1,859....</td>\n",
       "      <td>Customer Reviews3.9 out of 5 stars3.9 out of 5...</td>\n",
       "      <td>2022-12-02</td>\n",
       "      <td>https://www.amazon.eg/-/en/Adidas-TRAINER-GX07...</td>\n",
       "    </tr>\n",
       "    <tr>\n",
       "      <th>13</th>\n",
       "      <td>adidas LITE RACER ADAPT 4.0 Men's</td>\n",
       "      <td>\\n  Price: EGP1,479.00EGP1,479.00 \\n\\n\\n\\n\\n\\n...</td>\n",
       "      <td>Customer Reviews4.3 out of 5 stars4.3 out of 5...</td>\n",
       "      <td>2022-12-02</td>\n",
       "      <td>https://www.amazon.eg/-/en/adidas-RACER-GREFIV...</td>\n",
       "    </tr>\n",
       "    <tr>\n",
       "      <th>14</th>\n",
       "      <td>Vans Old Skool Laced Up For Men</td>\n",
       "      <td>\\n  Price:  EGP2,199.00EGP2,199.00 - EGP2,629....</td>\n",
       "      <td>Customer Reviews4.7 out of 5 stars4.7 out of 5...</td>\n",
       "      <td>2022-12-02</td>\n",
       "      <td>https://www.amazon.eg/-/en/Vans-Old-Skool-Lace...</td>\n",
       "    </tr>\n",
       "    <tr>\n",
       "      <th>15</th>\n",
       "      <td>Skechers Mens Go Walk 6 Motley, Color:...</td>\n",
       "      <td>\\n  Price:  EGP2,239.00EGP2,239.00 - EGP2,979....</td>\n",
       "      <td>Customer Reviews4.5 out of 5 stars4.5 out of 5...</td>\n",
       "      <td>2022-12-02</td>\n",
       "      <td>https://www.amazon.eg/-/en/Skechers-Mens-Walk-...</td>\n",
       "    </tr>\n",
       "    <tr>\n",
       "      <th>16</th>\n",
       "      <td>Skechers Mens Uno Stand on Air Sneaker...</td>\n",
       "      <td>\\n  Price: EGP2,979.00EGP2,979.00 \\n\\n\\n\\n\\n\\n...</td>\n",
       "      <td>Customer Reviews4.6 out of 5 stars4.6 out of 5...</td>\n",
       "      <td>2022-12-02</td>\n",
       "      <td>https://www.amazon.eg/-/en/Skechers-Stand-Sne...</td>\n",
       "    </tr>\n",
       "    <tr>\n",
       "      <th>17</th>\n",
       "      <td>SPORT Fashion Sneakers For Men</td>\n",
       "      <td>\\n  Price: EGP199.00EGP199.00 \\n\\n\\n\\n\\n\\n\\n\\n...</td>\n",
       "      <td>Customer Reviews2.9 out of 5 stars2.9 out of 5...</td>\n",
       "      <td>2022-12-02</td>\n",
       "      <td>https://www.amazon.eg/-/en/SPORT-Fashion-Sneak...</td>\n",
       "    </tr>\n",
       "    <tr>\n",
       "      <th>18</th>\n",
       "      <td>Salerno Mesh Contrast Lining</td>\n",
       "      <td>\\n  Price: EGP139.00EGP139.00 \\n\\n\\n\\n\\n\\n\\n\\n...</td>\n",
       "      <td>Customer Reviews3.6 out of 5 stars3.6 out of 5...</td>\n",
       "      <td>2022-12-02</td>\n",
       "      <td>https://www.amazon.eg/-/en/Salerno-Contrast-La...</td>\n",
       "    </tr>\n",
       "  </tbody>\n",
       "</table>\n",
       "</div>"
      ],
      "text/plain": [
       "                                         prodcut_name  \\\n",
       "0                   ACTIVNEW MEN'S SPORT SHOES          \n",
       "1           Testa Toro Men's Daily Life Microfiber...   \n",
       "2           adidas Mens Run Response Super 2.0 MN ...   \n",
       "3             Squadra Mesh Leather Detail Side          \n",
       "4           adidas Mens Runfalcon 2.0 Sneaker Athl...   \n",
       "5             Squadra Mesh Leather Detail Side          \n",
       "6                             Adidas DURAMO 10          \n",
       "7           Salerno Mens Two-Tone Textile Lace-Up ...   \n",
       "8           Converse Navy Blue Fashion Sneakers Fo...   \n",
       "9              ASICS MEN'S SPORTSTYLE GEL-1090          \n",
       "10          SKECHERS D'LUX WALKER - SPORTS Collect...   \n",
       "11                     Romba Sport Men's Shoes          \n",
       "12                            Adidas TRAINER V          \n",
       "13           adidas LITE RACER ADAPT 4.0 Men's          \n",
       "14             Vans Old Skool Laced Up For Men          \n",
       "15          Skechers Mens Go Walk 6 Motley, Color:...   \n",
       "16          Skechers Mens Uno Stand on Air Sneaker...   \n",
       "17              SPORT Fashion Sneakers For Men          \n",
       "18                Salerno Mesh Contrast Lining          \n",
       "\n",
       "                                                price  \\\n",
       "0   \\n  Price: EGP299.00EGP299.00 \\n\\n\\n\\n\\n\\n\\n\\n...   \n",
       "1   \\n  Price: EGP185.00EGP185.00 \\n\\n\\n\\n\\n\\n\\n\\n...   \n",
       "2   \\n  Price:  EGP1,229.00EGP1,229.00 - EGP1,679....   \n",
       "3   \\n  Price:  EGP69.00EGP69.00 - EGP79.00EGP79.0...   \n",
       "4   \\n  Price: EGP1,629.00EGP1,629.00 \\n\\n\\n\\n\\n\\n...   \n",
       "5   \\n  Price: EGP79.00EGP79.00 \\n\\n\\n\\n\\n\\n\\n\\n \\...   \n",
       "6   \\n  Price: EGP1,879.00EGP1,879.00 \\n\\n\\n\\n\\n\\n...   \n",
       "7   \\n  Price:  EGP119.00EGP119.00 - EGP139.00EGP1...   \n",
       "8   \\n  Price:  EGP1,449.00EGP1,449.00 - EGP1,699....   \n",
       "9   \\n  Price:  EGP1,659.00EGP1,659.00 - EGP2,249....   \n",
       "10  \\n  Price:  EGP2,609.00EGP2,609.00 - EGP3,409....   \n",
       "11  \\n  Price:  EGP189.00EGP189.00 - EGP199.00EGP1...   \n",
       "12  \\n  Price:  EGP1,839.00EGP1,839.00 - EGP1,859....   \n",
       "13  \\n  Price: EGP1,479.00EGP1,479.00 \\n\\n\\n\\n\\n\\n...   \n",
       "14  \\n  Price:  EGP2,199.00EGP2,199.00 - EGP2,629....   \n",
       "15  \\n  Price:  EGP2,239.00EGP2,239.00 - EGP2,979....   \n",
       "16  \\n  Price: EGP2,979.00EGP2,979.00 \\n\\n\\n\\n\\n\\n...   \n",
       "17  \\n  Price: EGP199.00EGP199.00 \\n\\n\\n\\n\\n\\n\\n\\n...   \n",
       "18  \\n  Price: EGP139.00EGP139.00 \\n\\n\\n\\n\\n\\n\\n\\n...   \n",
       "\n",
       "                                              reviews        date  \\\n",
       "0   Customer Reviews4.0 out of 5 stars4 out of 5\\n...  2022-12-02   \n",
       "1   Customer Reviews3.8 out of 5 stars3.8 out of 5...  2022-12-02   \n",
       "2   Customer Reviews4.1 out of 5 stars4.1 out of 5...  2022-12-02   \n",
       "3   Customer Reviews2.9 out of 5 stars2.9 out of 5...  2022-12-02   \n",
       "4   Customer Reviews4.4 out of 5 stars4.4 out of 5...  2022-12-02   \n",
       "5   Customer Reviews2.9 out of 5 stars2.9 out of 5...  2022-12-02   \n",
       "6   Customer Reviews4.0 out of 5 stars4 out of 5\\n...  2022-12-02   \n",
       "7   Customer Reviews4.0 out of 5 stars4 out of 5\\n...  2022-12-02   \n",
       "8   Customer Reviews4.5 out of 5 stars4.5 out of 5...  2022-12-02   \n",
       "9   Customer Reviews4.3 out of 5 stars4.3 out of 5...  2022-12-02   \n",
       "10  Customer Reviews4.2 out of 5 stars4.2 out of 5...  2022-12-02   \n",
       "11  Customer Reviews2.9 out of 5 stars2.9 out of 5...  2022-12-02   \n",
       "12  Customer Reviews3.9 out of 5 stars3.9 out of 5...  2022-12-02   \n",
       "13  Customer Reviews4.3 out of 5 stars4.3 out of 5...  2022-12-02   \n",
       "14  Customer Reviews4.7 out of 5 stars4.7 out of 5...  2022-12-02   \n",
       "15  Customer Reviews4.5 out of 5 stars4.5 out of 5...  2022-12-02   \n",
       "16  Customer Reviews4.6 out of 5 stars4.6 out of 5...  2022-12-02   \n",
       "17  Customer Reviews2.9 out of 5 stars2.9 out of 5...  2022-12-02   \n",
       "18  Customer Reviews3.6 out of 5 stars3.6 out of 5...  2022-12-02   \n",
       "\n",
       "                                                  url  \n",
       "0   https://www.amazon.eg/-/en/ACTIVNEW-MENS-SPORT...  \n",
       "1   https://www.amazon.eg/-/en/Testa-Toro-Daily-Mi...  \n",
       "2   https://www.amazon.eg/-/en/adidas-Response-Com...  \n",
       "3   https://www.amazon.eg/-/en/Squadra-Leather-Det...  \n",
       "4   https://www.amazon.eg/-/en/adidas-Runfalcon-Sn...  \n",
       "5    https://www.amazon.eg/-/en/Squadra-Leather-De...  \n",
       "6   https://www.amazon.eg/-/en/Adidas-DURAMO-GW408...  \n",
       "7   https://www.amazon.eg/-/en/Salerno-Two-Tone-Te...  \n",
       "8   https://www.amazon.eg/-/en/Converse-Fashion-Sn...  \n",
       "9   https://www.amazon.eg/-/en/ASICS-MENS-SPORTSTY...  \n",
       "10  https://www.amazon.eg/-/en/SKECHERS-DLUX-WALKE...  \n",
       "11  https://www.amazon.eg/-/en/Romba-Sport-Mens-Sh...  \n",
       "12  https://www.amazon.eg/-/en/Adidas-TRAINER-GX07...  \n",
       "13  https://www.amazon.eg/-/en/adidas-RACER-GREFIV...  \n",
       "14  https://www.amazon.eg/-/en/Vans-Old-Skool-Lace...  \n",
       "15  https://www.amazon.eg/-/en/Skechers-Mens-Walk-...  \n",
       "16   https://www.amazon.eg/-/en/Skechers-Stand-Sne...  \n",
       "17  https://www.amazon.eg/-/en/SPORT-Fashion-Sneak...  \n",
       "18  https://www.amazon.eg/-/en/Salerno-Contrast-La...  "
      ]
     },
     "execution_count": 434,
     "metadata": {},
     "output_type": "execute_result"
    }
   ],
   "source": [
    "products_1\n"
   ]
  },
  {
   "cell_type": "code",
   "execution_count": 435,
   "id": "72ce2f90",
   "metadata": {},
   "outputs": [
    {
     "name": "stdout",
     "output_type": "stream",
     "text": [
      "The cleaning is done you can check your dataframe \n"
     ]
    }
   ],
   "source": [
    "clean_pr_df_no_reviews = clean_products_df(products_1)"
   ]
  },
  {
   "cell_type": "code",
   "execution_count": 436,
   "id": "591c0923",
   "metadata": {},
   "outputs": [
    {
     "name": "stdout",
     "output_type": "stream",
     "text": [
      "<class 'pandas.core.frame.DataFrame'>\n",
      "RangeIndex: 19 entries, 0 to 18\n",
      "Data columns (total 11 columns):\n",
      " #   Column           Non-Null Count  Dtype  \n",
      "---  ------           --------------  -----  \n",
      " 0   prodcut_name     19 non-null     string \n",
      " 1   price            19 non-null     float64\n",
      " 2   date             19 non-null     object \n",
      " 3   url              19 non-null     object \n",
      " 4   total_ratings    19 non-null     int32  \n",
      " 5   rating_out_of_5  19 non-null     float64\n",
      " 6   5_stars_percent  19 non-null     float64\n",
      " 7   4_stars_percent  19 non-null     float64\n",
      " 8   3_stars_percent  19 non-null     float64\n",
      " 9   2_stars_percent  19 non-null     float64\n",
      " 10  1_stars_percent  19 non-null     float64\n",
      "dtypes: float64(7), int32(1), object(2), string(1)\n",
      "memory usage: 1.7+ KB\n"
     ]
    }
   ],
   "source": [
    "clean_pr_df_no_reviews.info()"
   ]
  },
  {
   "cell_type": "code",
   "execution_count": 437,
   "id": "061967fd",
   "metadata": {},
   "outputs": [
    {
     "data": {
      "text/html": [
       "<div>\n",
       "<style scoped>\n",
       "    .dataframe tbody tr th:only-of-type {\n",
       "        vertical-align: middle;\n",
       "    }\n",
       "\n",
       "    .dataframe tbody tr th {\n",
       "        vertical-align: top;\n",
       "    }\n",
       "\n",
       "    .dataframe thead th {\n",
       "        text-align: right;\n",
       "    }\n",
       "</style>\n",
       "<table border=\"1\" class=\"dataframe\">\n",
       "  <thead>\n",
       "    <tr style=\"text-align: right;\">\n",
       "      <th></th>\n",
       "      <th>prodcut_name</th>\n",
       "      <th>price</th>\n",
       "      <th>date</th>\n",
       "      <th>url</th>\n",
       "      <th>total_ratings</th>\n",
       "      <th>rating_out_of_5</th>\n",
       "      <th>5_stars_percent</th>\n",
       "      <th>4_stars_percent</th>\n",
       "      <th>3_stars_percent</th>\n",
       "      <th>2_stars_percent</th>\n",
       "      <th>1_stars_percent</th>\n",
       "    </tr>\n",
       "  </thead>\n",
       "  <tbody>\n",
       "    <tr>\n",
       "      <th>0</th>\n",
       "      <td>ACTIVNEW MENS SPORT SHOES</td>\n",
       "      <td>299.0</td>\n",
       "      <td>2022-12-02</td>\n",
       "      <td>https://www.amazon.eg/-/en/ACTIVNEW-MENS-SPORT...</td>\n",
       "      <td>85</td>\n",
       "      <td>4.0</td>\n",
       "      <td>50.0</td>\n",
       "      <td>22.0</td>\n",
       "      <td>16.0</td>\n",
       "      <td>4.0</td>\n",
       "      <td>8.0</td>\n",
       "    </tr>\n",
       "    <tr>\n",
       "      <th>1</th>\n",
       "      <td>Testa Toro Mens Daily Life Microfiber Casual S...</td>\n",
       "      <td>185.0</td>\n",
       "      <td>2022-12-02</td>\n",
       "      <td>https://www.amazon.eg/-/en/Testa-Toro-Daily-Mi...</td>\n",
       "      <td>235</td>\n",
       "      <td>3.8</td>\n",
       "      <td>62.0</td>\n",
       "      <td>4.0</td>\n",
       "      <td>7.0</td>\n",
       "      <td>8.0</td>\n",
       "      <td>18.0</td>\n",
       "    </tr>\n",
       "    <tr>\n",
       "      <th>2</th>\n",
       "      <td>adidas Mens Run Response Super 20 MN Competiti...</td>\n",
       "      <td>229.0</td>\n",
       "      <td>2022-12-02</td>\n",
       "      <td>https://www.amazon.eg/-/en/adidas-Response-Com...</td>\n",
       "      <td>92</td>\n",
       "      <td>4.1</td>\n",
       "      <td>62.0</td>\n",
       "      <td>15.0</td>\n",
       "      <td>7.0</td>\n",
       "      <td>4.0</td>\n",
       "      <td>13.0</td>\n",
       "    </tr>\n",
       "    <tr>\n",
       "      <th>3</th>\n",
       "      <td>Squadra Mesh Leather Detail Side</td>\n",
       "      <td>69.0</td>\n",
       "      <td>2022-12-02</td>\n",
       "      <td>https://www.amazon.eg/-/en/Squadra-Leather-Det...</td>\n",
       "      <td>156</td>\n",
       "      <td>2.9</td>\n",
       "      <td>26.0</td>\n",
       "      <td>11.0</td>\n",
       "      <td>19.0</td>\n",
       "      <td>10.0</td>\n",
       "      <td>33.0</td>\n",
       "    </tr>\n",
       "    <tr>\n",
       "      <th>4</th>\n",
       "      <td>adidas Mens Runfalcon 20 Sneaker Athletic MNS ...</td>\n",
       "      <td>629.0</td>\n",
       "      <td>2022-12-02</td>\n",
       "      <td>https://www.amazon.eg/-/en/adidas-Runfalcon-Sn...</td>\n",
       "      <td>5767</td>\n",
       "      <td>4.4</td>\n",
       "      <td>66.0</td>\n",
       "      <td>21.0</td>\n",
       "      <td>8.0</td>\n",
       "      <td>2.0</td>\n",
       "      <td>4.0</td>\n",
       "    </tr>\n",
       "    <tr>\n",
       "      <th>5</th>\n",
       "      <td>Squadra Mesh Leather Detail Side</td>\n",
       "      <td>79.0</td>\n",
       "      <td>2022-12-02</td>\n",
       "      <td>https://www.amazon.eg/-/en/Squadra-Leather-De...</td>\n",
       "      <td>156</td>\n",
       "      <td>2.9</td>\n",
       "      <td>26.0</td>\n",
       "      <td>11.0</td>\n",
       "      <td>19.0</td>\n",
       "      <td>10.0</td>\n",
       "      <td>33.0</td>\n",
       "    </tr>\n",
       "    <tr>\n",
       "      <th>6</th>\n",
       "      <td>Adidas DURAMO 10</td>\n",
       "      <td>879.0</td>\n",
       "      <td>2022-12-02</td>\n",
       "      <td>https://www.amazon.eg/-/en/Adidas-DURAMO-GW408...</td>\n",
       "      <td>48</td>\n",
       "      <td>4.0</td>\n",
       "      <td>55.0</td>\n",
       "      <td>19.0</td>\n",
       "      <td>11.0</td>\n",
       "      <td>0.0</td>\n",
       "      <td>0.0</td>\n",
       "    </tr>\n",
       "    <tr>\n",
       "      <th>7</th>\n",
       "      <td>Salerno Mens TwoTone Textile LaceUp Fluidstree...</td>\n",
       "      <td>119.0</td>\n",
       "      <td>2022-12-02</td>\n",
       "      <td>https://www.amazon.eg/-/en/Salerno-Two-Tone-Te...</td>\n",
       "      <td>70</td>\n",
       "      <td>4.0</td>\n",
       "      <td>42.0</td>\n",
       "      <td>33.0</td>\n",
       "      <td>12.0</td>\n",
       "      <td>5.0</td>\n",
       "      <td>8.0</td>\n",
       "    </tr>\n",
       "    <tr>\n",
       "      <th>8</th>\n",
       "      <td>Converse Navy Blue Fashion Sneakers For Men</td>\n",
       "      <td>449.0</td>\n",
       "      <td>2022-12-02</td>\n",
       "      <td>https://www.amazon.eg/-/en/Converse-Fashion-Sn...</td>\n",
       "      <td>8609</td>\n",
       "      <td>4.5</td>\n",
       "      <td>73.0</td>\n",
       "      <td>14.0</td>\n",
       "      <td>5.0</td>\n",
       "      <td>2.0</td>\n",
       "      <td>6.0</td>\n",
       "    </tr>\n",
       "    <tr>\n",
       "      <th>9</th>\n",
       "      <td>ASICS MENS SPORTSTYLE GEL1090</td>\n",
       "      <td>659.0</td>\n",
       "      <td>2022-12-02</td>\n",
       "      <td>https://www.amazon.eg/-/en/ASICS-MENS-SPORTSTY...</td>\n",
       "      <td>79</td>\n",
       "      <td>4.3</td>\n",
       "      <td>66.0</td>\n",
       "      <td>18.0</td>\n",
       "      <td>6.0</td>\n",
       "      <td>1.0</td>\n",
       "      <td>7.0</td>\n",
       "    </tr>\n",
       "    <tr>\n",
       "      <th>10</th>\n",
       "      <td>SKECHERS DLUX WALKER SPORTS Collection For MEN...</td>\n",
       "      <td>609.0</td>\n",
       "      <td>2022-12-02</td>\n",
       "      <td>https://www.amazon.eg/-/en/SKECHERS-DLUX-WALKE...</td>\n",
       "      <td>79</td>\n",
       "      <td>4.2</td>\n",
       "      <td>62.0</td>\n",
       "      <td>17.0</td>\n",
       "      <td>8.0</td>\n",
       "      <td>3.0</td>\n",
       "      <td>10.0</td>\n",
       "    </tr>\n",
       "    <tr>\n",
       "      <th>11</th>\n",
       "      <td>Romba Sport Mens Shoes</td>\n",
       "      <td>189.0</td>\n",
       "      <td>2022-12-02</td>\n",
       "      <td>https://www.amazon.eg/-/en/Romba-Sport-Mens-Sh...</td>\n",
       "      <td>82</td>\n",
       "      <td>2.9</td>\n",
       "      <td>26.0</td>\n",
       "      <td>16.0</td>\n",
       "      <td>16.0</td>\n",
       "      <td>7.0</td>\n",
       "      <td>34.0</td>\n",
       "    </tr>\n",
       "    <tr>\n",
       "      <th>12</th>\n",
       "      <td>Adidas TRAINER V</td>\n",
       "      <td>839.0</td>\n",
       "      <td>2022-12-02</td>\n",
       "      <td>https://www.amazon.eg/-/en/Adidas-TRAINER-GX07...</td>\n",
       "      <td>57</td>\n",
       "      <td>3.9</td>\n",
       "      <td>53.0</td>\n",
       "      <td>18.0</td>\n",
       "      <td>9.0</td>\n",
       "      <td>3.0</td>\n",
       "      <td>17.0</td>\n",
       "    </tr>\n",
       "    <tr>\n",
       "      <th>13</th>\n",
       "      <td>adidas LITE RACER ADAPT 40 Mens</td>\n",
       "      <td>479.0</td>\n",
       "      <td>2022-12-02</td>\n",
       "      <td>https://www.amazon.eg/-/en/adidas-RACER-GREFIV...</td>\n",
       "      <td>52</td>\n",
       "      <td>4.3</td>\n",
       "      <td>55.0</td>\n",
       "      <td>25.0</td>\n",
       "      <td>14.0</td>\n",
       "      <td>3.0</td>\n",
       "      <td>3.0</td>\n",
       "    </tr>\n",
       "    <tr>\n",
       "      <th>14</th>\n",
       "      <td>Vans Old Skool Laced Up For Men</td>\n",
       "      <td>199.0</td>\n",
       "      <td>2022-12-02</td>\n",
       "      <td>https://www.amazon.eg/-/en/Vans-Old-Skool-Lace...</td>\n",
       "      <td>496</td>\n",
       "      <td>4.7</td>\n",
       "      <td>84.0</td>\n",
       "      <td>8.0</td>\n",
       "      <td>3.0</td>\n",
       "      <td>1.0</td>\n",
       "      <td>5.0</td>\n",
       "    </tr>\n",
       "    <tr>\n",
       "      <th>15</th>\n",
       "      <td>Skechers Mens Go Walk 6 Motley Color</td>\n",
       "      <td>239.0</td>\n",
       "      <td>2022-12-02</td>\n",
       "      <td>https://www.amazon.eg/-/en/Skechers-Mens-Walk-...</td>\n",
       "      <td>589</td>\n",
       "      <td>4.5</td>\n",
       "      <td>70.0</td>\n",
       "      <td>19.0</td>\n",
       "      <td>7.0</td>\n",
       "      <td>2.0</td>\n",
       "      <td>3.0</td>\n",
       "    </tr>\n",
       "    <tr>\n",
       "      <th>16</th>\n",
       "      <td>Skechers Mens Uno Stand on Air Sneakers Shoes ...</td>\n",
       "      <td>979.0</td>\n",
       "      <td>2022-12-02</td>\n",
       "      <td>https://www.amazon.eg/-/en/Skechers-Stand-Sne...</td>\n",
       "      <td>1468</td>\n",
       "      <td>4.6</td>\n",
       "      <td>77.0</td>\n",
       "      <td>14.0</td>\n",
       "      <td>4.0</td>\n",
       "      <td>2.0</td>\n",
       "      <td>3.0</td>\n",
       "    </tr>\n",
       "    <tr>\n",
       "      <th>17</th>\n",
       "      <td>SPORT Fashion Sneakers For Men</td>\n",
       "      <td>199.0</td>\n",
       "      <td>2022-12-02</td>\n",
       "      <td>https://www.amazon.eg/-/en/SPORT-Fashion-Sneak...</td>\n",
       "      <td>446</td>\n",
       "      <td>2.9</td>\n",
       "      <td>29.0</td>\n",
       "      <td>13.0</td>\n",
       "      <td>15.0</td>\n",
       "      <td>5.0</td>\n",
       "      <td>37.0</td>\n",
       "    </tr>\n",
       "    <tr>\n",
       "      <th>18</th>\n",
       "      <td>Salerno Mesh Contrast Lining</td>\n",
       "      <td>139.0</td>\n",
       "      <td>2022-12-02</td>\n",
       "      <td>https://www.amazon.eg/-/en/Salerno-Contrast-La...</td>\n",
       "      <td>105</td>\n",
       "      <td>3.6</td>\n",
       "      <td>41.0</td>\n",
       "      <td>17.0</td>\n",
       "      <td>17.0</td>\n",
       "      <td>9.0</td>\n",
       "      <td>15.0</td>\n",
       "    </tr>\n",
       "  </tbody>\n",
       "</table>\n",
       "</div>"
      ],
      "text/plain": [
       "                                         prodcut_name  price        date  \\\n",
       "0                           ACTIVNEW MENS SPORT SHOES  299.0  2022-12-02   \n",
       "1   Testa Toro Mens Daily Life Microfiber Casual S...  185.0  2022-12-02   \n",
       "2   adidas Mens Run Response Super 20 MN Competiti...  229.0  2022-12-02   \n",
       "3                    Squadra Mesh Leather Detail Side   69.0  2022-12-02   \n",
       "4   adidas Mens Runfalcon 20 Sneaker Athletic MNS ...  629.0  2022-12-02   \n",
       "5                    Squadra Mesh Leather Detail Side   79.0  2022-12-02   \n",
       "6                                    Adidas DURAMO 10  879.0  2022-12-02   \n",
       "7   Salerno Mens TwoTone Textile LaceUp Fluidstree...  119.0  2022-12-02   \n",
       "8         Converse Navy Blue Fashion Sneakers For Men  449.0  2022-12-02   \n",
       "9                       ASICS MENS SPORTSTYLE GEL1090  659.0  2022-12-02   \n",
       "10  SKECHERS DLUX WALKER SPORTS Collection For MEN...  609.0  2022-12-02   \n",
       "11                             Romba Sport Mens Shoes  189.0  2022-12-02   \n",
       "12                                   Adidas TRAINER V  839.0  2022-12-02   \n",
       "13                    adidas LITE RACER ADAPT 40 Mens  479.0  2022-12-02   \n",
       "14                    Vans Old Skool Laced Up For Men  199.0  2022-12-02   \n",
       "15               Skechers Mens Go Walk 6 Motley Color  239.0  2022-12-02   \n",
       "16  Skechers Mens Uno Stand on Air Sneakers Shoes ...  979.0  2022-12-02   \n",
       "17                     SPORT Fashion Sneakers For Men  199.0  2022-12-02   \n",
       "18                       Salerno Mesh Contrast Lining  139.0  2022-12-02   \n",
       "\n",
       "                                                  url  total_ratings  \\\n",
       "0   https://www.amazon.eg/-/en/ACTIVNEW-MENS-SPORT...             85   \n",
       "1   https://www.amazon.eg/-/en/Testa-Toro-Daily-Mi...            235   \n",
       "2   https://www.amazon.eg/-/en/adidas-Response-Com...             92   \n",
       "3   https://www.amazon.eg/-/en/Squadra-Leather-Det...            156   \n",
       "4   https://www.amazon.eg/-/en/adidas-Runfalcon-Sn...           5767   \n",
       "5    https://www.amazon.eg/-/en/Squadra-Leather-De...            156   \n",
       "6   https://www.amazon.eg/-/en/Adidas-DURAMO-GW408...             48   \n",
       "7   https://www.amazon.eg/-/en/Salerno-Two-Tone-Te...             70   \n",
       "8   https://www.amazon.eg/-/en/Converse-Fashion-Sn...           8609   \n",
       "9   https://www.amazon.eg/-/en/ASICS-MENS-SPORTSTY...             79   \n",
       "10  https://www.amazon.eg/-/en/SKECHERS-DLUX-WALKE...             79   \n",
       "11  https://www.amazon.eg/-/en/Romba-Sport-Mens-Sh...             82   \n",
       "12  https://www.amazon.eg/-/en/Adidas-TRAINER-GX07...             57   \n",
       "13  https://www.amazon.eg/-/en/adidas-RACER-GREFIV...             52   \n",
       "14  https://www.amazon.eg/-/en/Vans-Old-Skool-Lace...            496   \n",
       "15  https://www.amazon.eg/-/en/Skechers-Mens-Walk-...            589   \n",
       "16   https://www.amazon.eg/-/en/Skechers-Stand-Sne...           1468   \n",
       "17  https://www.amazon.eg/-/en/SPORT-Fashion-Sneak...            446   \n",
       "18  https://www.amazon.eg/-/en/Salerno-Contrast-La...            105   \n",
       "\n",
       "    rating_out_of_5  5_stars_percent  4_stars_percent  3_stars_percent  \\\n",
       "0               4.0             50.0             22.0             16.0   \n",
       "1               3.8             62.0              4.0              7.0   \n",
       "2               4.1             62.0             15.0              7.0   \n",
       "3               2.9             26.0             11.0             19.0   \n",
       "4               4.4             66.0             21.0              8.0   \n",
       "5               2.9             26.0             11.0             19.0   \n",
       "6               4.0             55.0             19.0             11.0   \n",
       "7               4.0             42.0             33.0             12.0   \n",
       "8               4.5             73.0             14.0              5.0   \n",
       "9               4.3             66.0             18.0              6.0   \n",
       "10              4.2             62.0             17.0              8.0   \n",
       "11              2.9             26.0             16.0             16.0   \n",
       "12              3.9             53.0             18.0              9.0   \n",
       "13              4.3             55.0             25.0             14.0   \n",
       "14              4.7             84.0              8.0              3.0   \n",
       "15              4.5             70.0             19.0              7.0   \n",
       "16              4.6             77.0             14.0              4.0   \n",
       "17              2.9             29.0             13.0             15.0   \n",
       "18              3.6             41.0             17.0             17.0   \n",
       "\n",
       "    2_stars_percent  1_stars_percent  \n",
       "0               4.0              8.0  \n",
       "1               8.0             18.0  \n",
       "2               4.0             13.0  \n",
       "3              10.0             33.0  \n",
       "4               2.0              4.0  \n",
       "5              10.0             33.0  \n",
       "6               0.0              0.0  \n",
       "7               5.0              8.0  \n",
       "8               2.0              6.0  \n",
       "9               1.0              7.0  \n",
       "10              3.0             10.0  \n",
       "11              7.0             34.0  \n",
       "12              3.0             17.0  \n",
       "13              3.0              3.0  \n",
       "14              1.0              5.0  \n",
       "15              2.0              3.0  \n",
       "16              2.0              3.0  \n",
       "17              5.0             37.0  \n",
       "18              9.0             15.0  "
      ]
     },
     "execution_count": 437,
     "metadata": {},
     "output_type": "execute_result"
    }
   ],
   "source": [
    "clean_pr_df_no_reviews"
   ]
  },
  {
   "cell_type": "markdown",
   "id": "732c307b",
   "metadata": {},
   "source": [
    "# save the new cleaned dataframe into a new csv with todays date "
   ]
  },
  {
   "cell_type": "code",
   "execution_count": 444,
   "id": "3f77da7f",
   "metadata": {},
   "outputs": [],
   "source": [
    "#clean_pr_df_no_reviews.to_csv(f\"E:\\\\study\\\\DA_Projects\\\\Python_projects\\\\Amazon_project\\\\data\\\\cleaned_amazon_shoes_df_no_reviews_{date.today()}.csv\",index= False)"
   ]
  },
  {
   "cell_type": "code",
   "execution_count": 3,
   "id": "bcc3a894",
   "metadata": {},
   "outputs": [],
   "source": [
    "text = \"PYTHONSQLRSTATISTICAL ANALYSISHYPOTHESIS TESTING ( STATISTICAL TESTING )BIGQUERYTABLEAUPOWERPIMACHINE LEARNINGSCIKIT-LEARNNLPWEB CRAWLINGTIDYVERSEGGPLOT2SHEETS - EXCELSOCIAL MEDIA ANALYTICSDATA VISUALIZATIONDEVELOPING EFFECTIVE PRESENTATIONSDEVELOPING REPORTSPROBLEM SOLVINGPRESENTATION AND COMMUNICATION SKILLS\""
   ]
  },
  {
   "cell_type": "code",
   "execution_count": 6,
   "id": "6bd5c31f",
   "metadata": {},
   "outputs": [
    {
     "data": {
      "text/plain": [
       "'pythonsqlrstatistical analysishypothesis testing ( statistical testing )bigquerytableaupowerpimachine learningscikit-learnnlpweb crawlingtidyverseggplot2sheets - excelsocial media analyticsdata visualizationdeveloping effective presentationsdeveloping reportsproblem solvingpresentation and communication skills'"
      ]
     },
     "execution_count": 6,
     "metadata": {},
     "output_type": "execute_result"
    }
   ],
   "source": [
    "text.lower()"
   ]
  },
  {
   "cell_type": "code",
   "execution_count": null,
   "id": "a32d6bb5",
   "metadata": {},
   "outputs": [],
   "source": []
  }
 ],
 "metadata": {
  "kernelspec": {
   "display_name": "Python 3 (ipykernel)",
   "language": "python",
   "name": "python3"
  },
  "language_info": {
   "codemirror_mode": {
    "name": "ipython",
    "version": 3
   },
   "file_extension": ".py",
   "mimetype": "text/x-python",
   "name": "python",
   "nbconvert_exporter": "python",
   "pygments_lexer": "ipython3",
   "version": "3.9.12"
  }
 },
 "nbformat": 4,
 "nbformat_minor": 5
}
