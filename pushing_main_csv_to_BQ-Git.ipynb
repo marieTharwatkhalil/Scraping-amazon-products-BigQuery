{
 "cells": [
  {
   "cell_type": "code",
   "execution_count": 1,
   "id": "3ab3cfab",
   "metadata": {},
   "outputs": [],
   "source": [
    "import pandas as pd\n",
    "from bs4 import BeautifulSoup\n",
    "import requests \n",
    "from datetime import date\n",
    "import re \n",
    "import time \n",
    "from google.cloud import bigquery\n"
   ]
  },
  {
   "cell_type": "code",
   "execution_count": 2,
   "id": "9aa3f689",
   "metadata": {},
   "outputs": [],
   "source": [
    "\n",
    "#pip install google-cloud-bigquery --upgrade\n"
   ]
  },
  {
   "cell_type": "code",
   "execution_count": 3,
   "id": "5bc7bbd4",
   "metadata": {},
   "outputs": [],
   "source": [
    "from google.cloud import storage\n",
    "import os    \n"
   ]
  },
  {
   "cell_type": "code",
   "execution_count": 4,
   "id": "ad8488e5",
   "metadata": {},
   "outputs": [],
   "source": [
    "credential_path = \"Credential_path",
    "os.environ['GOOGLE_APPLICATION_CREDENTIALS'] = credential_path"
   ]
  },
  {
   "cell_type": "code",
   "execution_count": 37,
   "id": "6781f358",
   "metadata": {},
   "outputs": [],
   "source": [
    "def load_csv_to_BQ(table_id_, file_path_):\n",
    "    \n",
    "    #BigQuery Client object\n",
    "    client = bigquery.Client()\n",
    "    \n",
    "    #job configration\n",
    "    job_config = bigquery.LoadJobConfig(source_format=bigquery.SourceFormat.CSV, skip_leading_rows=1,autodetect = True,)\n",
    "   \n",
    "    # load data to bigQuery\n",
    "    with open(file_path_, \"rb\") as source_file:\n",
    "        job = client.load_table_from_file(source_file, table_id_, job_config=job_config)\n",
    "\n",
    "    job.result()\n",
    "    \n",
    "    # read table data to print the loaded data details \n",
    "    table = client.get_table(gbq_table_id)\n",
    "    print(f\"loaded {table.num_rows} rows, and {len(table.schema)} columns to {gbq_table_id}\")"
   ]
  },
  {
   "cell_type": "code",
   "execution_count": 23,
   "id": "73052796",
   "metadata": {},
   "outputs": [],
   "source": [
    "gbq_table_id= \"productsscrapingdec2022.products_shoes_dataset_dec_2022.shoes\"\n",
    "file_path_products = \"cleaned_amazon_shoes_df_no_reviews_2022-12-02.csv\""
   ]
  },
  {
   "cell_type": "code",
   "execution_count": 38,
   "id": "b0c7571d",
   "metadata": {},
   "outputs": [
    {
     "name": "stdout",
     "output_type": "stream",
     "text": [
      "loaded 38 rows, and 11 columns to productsscrapingdec2022.products_shoes_dataset_dec_2022.shoes\n"
     ]
    }
   ],
   "source": [
    "load_csv_to_BQ(gbq_table_id,file_path_products)"
   ]
  },
  {
   "cell_type": "code",
   "execution_count": 57,
   "id": "20755809",
   "metadata": {},
   "outputs": [],
   "source": []
  }
 ],
 "metadata": {
  "kernelspec": {
   "display_name": "Python 3 (ipykernel)",
   "language": "python",
   "name": "python3"
  },
  "language_info": {
   "codemirror_mode": {
    "name": "ipython",
    "version": 3
   },
   "file_extension": ".py",
   "mimetype": "text/x-python",
   "name": "python",
   "nbconvert_exporter": "python",
   "pygments_lexer": "ipython3",
   "version": "3.9.12"
  }
 },
 "nbformat": 4,
 "nbformat_minor": 5
}
